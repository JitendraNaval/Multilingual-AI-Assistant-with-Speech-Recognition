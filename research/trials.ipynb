{
 "cells": [
  {
   "cell_type": "code",
   "execution_count": 1,
   "metadata": {},
   "outputs": [],
   "source": [
    "import os"
   ]
  },
  {
   "cell_type": "code",
   "execution_count": 11,
   "metadata": {},
   "outputs": [
    {
     "name": "stdout",
     "output_type": "stream",
     "text": [
      "prefect !!\n"
     ]
    }
   ],
   "source": [
    "from dotenv import load_dotenv\n",
    "print(\"prefect !!\")\n",
    "load_dotenv()\n",
    "\n",
    "GOOGLE_API_KEY=os.getenv(\"GOOGLE_API_KEY\")\n",
    "\n",
    "os.environ[\"GOOGLE_API_KEY\"]=GOOGLE_API_KEY"
   ]
  },
  {
   "cell_type": "code",
   "execution_count": 5,
   "metadata": {},
   "outputs": [],
   "source": [
    "\n",
    "# Import the Python SDK\n",
    "import google.generativeai as genai"
   ]
  },
  {
   "cell_type": "code",
   "execution_count": 6,
   "metadata": {},
   "outputs": [],
   "source": [
    "genai.configure(api_key=GOOGLE_API_KEY)"
   ]
  },
  {
   "cell_type": "code",
   "execution_count": 9,
   "metadata": {},
   "outputs": [],
   "source": [
    "model=genai.GenerativeModel('gemini-2.0-flash')"
   ]
  },
  {
   "cell_type": "code",
   "execution_count": 10,
   "metadata": {},
   "outputs": [
    {
     "name": "stdout",
     "output_type": "stream",
     "text": [
      "Maya hated Mondays. The grey sky mirrored her grey mood as she trudged to school, weighed down by a backpack overflowing with textbooks, notebooks, and a half-eaten granola bar. She nearly tripped over a discarded cardboard box, kicking it in frustration.\n",
      "\n",
      "\"Oof!\"\n",
      "\n",
      "Maya jumped back. \"I'm so sorry! I didn't see you...\"\n",
      "\n",
      "But the box was empty. Then, she noticed it. Nestled amongst the crumpled cardboard, was a backpack. Not just any backpack, but one crafted from a soft, velvety material the color of twilight. Intricate silver stitching swirled across its surface, depicting constellations she didn't recognize.\n",
      "\n",
      "Curiosity overcoming her Monday gloom, Maya picked it up. It was surprisingly light. She hesitated, glancing around. No one claimed it. Maybe it was meant for her. She slipped it on.\n",
      "\n",
      "The moment it touched her back, a jolt, like a gentle static electricity, ran through her. The weight of her own backpack instantly vanished. As if by instinct, she reached into the velvety pack.\n",
      "\n",
      "Inside, she found not the bottomless pit she expected, but a single, perfectly ripe apple, smelling of autumn orchards. She hadn't packed an apple. This was strange.\n",
      "\n",
      "Later, in Mrs. Gable's excruciatingly boring history class, Maya felt a pang of hunger. She nervously reached into the twilight backpack, half expecting to find another apple. Instead, her fingers brushed against a small, intricately carved wooden whistle.\n",
      "\n",
      "She almost pulled it out, then remembered where she was. But as Mrs. Gable droned on about the Magna Carta, Maya's mind wandered. She imagined a cool breeze, the scent of pine trees, the sound of birdsong. And, almost unconsciously, she put the whistle to her lips and blew.\n",
      "\n",
      "A soft, melodic note, barely audible, filled the air. Suddenly, Mrs. Gable stopped mid-sentence. A robin, perched on the windowsill, began to sing a surprisingly complex and beautiful tune. The students, even the habitually bored ones, looked up, mesmerized. For a moment, history class transformed into a woodland serenade.\n",
      "\n",
      "After school, Maya cautiously explored her newfound treasure. Reaching into the backpack, she mentally wished for a pencil. And there it was, a perfectly sharpened pencil nestled in her hand. She thought of her math homework, dreading the long division. This time, she wished for the answer to the first problem. And instantly, a small, rolled-up piece of parchment appeared, with the solution written in elegant calligraphy.\n",
      "\n",
      "The backpack could give her anything! Or, at least, things. Over the next few days, Maya used the backpack discreetly. A band-aid for a scraped knee, a chocolate chip cookie during lunch, a tiny book of poetry to read on the bus. It was thrilling, and slightly addictive.\n",
      "\n",
      "But one day, she saw her friend Leo struggling with a flat tire on his bike. He was late for his violin lesson, and his face was etched with frustration. Maya knew she could use the backpack to help him. She could wish for a bike pump, or even a new tire.\n",
      "\n",
      "But a nagging feeling held her back. It felt...wrong. The backpack was about getting things for herself. It didn't feel right to use it for someone else.\n",
      "\n",
      "Hesitantly, she offered Leo her help. \"Hey, Leo! Maybe we can figure it out together?\"\n",
      "\n",
      "They spent the next half hour wrestling with the tire, covered in grease and sweat. Finally, with a triumphant yell, they managed to patch the hole. Leo was beaming. \"Thanks, Maya! I really appreciate it!\"\n",
      "\n",
      "That night, Maya reached into the twilight backpack. But this time, she didn't wish for anything. Instead, she thought about Leo's smile, about the satisfaction of solving a problem together. She pulled out her hand, expecting to find nothing.\n",
      "\n",
      "But there, nestled in her palm, was a single, luminous star, pulsating with a soft, inner light. It wasn't something she needed. It was something… beautiful.\n",
      "\n",
      "Maya realized the backpack wasn't just about getting things. It was about wanting, about needing, and maybe, just maybe, about understanding what truly mattered. It wasn't a shortcut to happiness, but a tool to understand her own heart.\n",
      "\n",
      "The twilight backpack was magical, yes. But its true magic wasn't in what it gave her, but in what it helped her discover within herself. And as she drifted off to sleep, clutching the luminous star, Maya knew that Mondays, and everything else, wouldn't seem so grey anymore.\n",
      "\n"
     ]
    }
   ],
   "source": [
    "response  = model.generate_content(\"Write a story about a magic backpack.\")\n",
    "print(response.text)"
   ]
  },
  {
   "cell_type": "code",
   "execution_count": null,
   "metadata": {},
   "outputs": [],
   "source": []
  }
 ],
 "metadata": {
  "kernelspec": {
   "display_name": "Python 3",
   "language": "python",
   "name": "python3"
  },
  "language_info": {
   "codemirror_mode": {
    "name": "ipython",
    "version": 3
   },
   "file_extension": ".py",
   "mimetype": "text/x-python",
   "name": "python",
   "nbconvert_exporter": "python",
   "pygments_lexer": "ipython3",
   "version": "3.10.16"
  }
 },
 "nbformat": 4,
 "nbformat_minor": 2
}
